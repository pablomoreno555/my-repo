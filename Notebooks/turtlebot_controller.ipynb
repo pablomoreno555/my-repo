{
 "cells": [
  {
   "cell_type": "code",
   "execution_count": 1,
   "id": "39222c3d",
   "metadata": {},
   "outputs": [],
   "source": [
    "import rospy\n",
    "from turtlesim.msg import Pose\n",
    "from geometry_msgs.msg import Twist\n",
    "import time\n",
    "import numpy as np\n",
    "import matplotlib as mpl\n",
    "import matplotlib.pyplot as plt\n",
    "\n",
    "x_plot = []\n",
    "y_plot = []\n",
    "pub = rospy.Publisher(\"turtle1/cmd_vel\", Twist, queue_size=1)"
   ]
  },
  {
   "cell_type": "code",
   "execution_count": 2,
   "id": "fb7b42b5",
   "metadata": {},
   "outputs": [],
   "source": [
    "def turtleCallback(msg):\n",
    "    \n",
    "    global x_plot, y_plot\n",
    "    x_plot.append(msg.x)\n",
    "    y_plot.append(msg.y)\n",
    "    vel = Twist()\n",
    "    \n",
    "    if (msg.x > 9.0):\n",
    "        vel.linear.x = 1.0\n",
    "        vel.angular.z = 1.0\n",
    "    elif (msg.x < 1.5):\n",
    "        vel.linear.x = 1.0\n",
    "        vel.angular.z = -1.0\n",
    "    else:\n",
    "        vel.linear.x = 1.0\n",
    "        vel.angular.z = 0.0\n",
    "        \n",
    "    pub.publish(vel)"
   ]
  },
  {
   "cell_type": "code",
   "execution_count": 3,
   "id": "4e0b3d7e",
   "metadata": {},
   "outputs": [],
   "source": [
    "%matplotlib widget\n",
    "\n",
    "rospy.init_node(\"turtlebot_controller\")\n",
    "sub = rospy.Subscriber(\"turtle1/pose\", Pose, turtleCallback)\n",
    "\n",
    "time.sleep(15)\n",
    "sub.unregister()\n",
    "\n",
    "vel = Twist()\n",
    "vel.linear.x = 0.0\n",
    "vel.angular.z = 0.0\n",
    "pub.publish(vel)"
   ]
  },
  {
   "cell_type": "code",
   "execution_count": 4,
   "id": "241a96f5",
   "metadata": {},
   "outputs": [
    {
     "data": {
      "application/vnd.jupyter.widget-view+json": {
       "model_id": "615c7f104f5f4622b4b30b4eba2ece0c",
       "version_major": 2,
       "version_minor": 0
      },
      "text/plain": [
       "Canvas(toolbar=Toolbar(toolitems=[('Home', 'Reset original view', 'home', 'home'), ('Back', 'Back to previous …"
      ]
     },
     "metadata": {},
     "output_type": "display_data"
    },
    {
     "data": {
      "text/plain": [
       "Text(0, 0.5, 'y')"
      ]
     },
     "execution_count": 4,
     "metadata": {},
     "output_type": "execute_result"
    }
   ],
   "source": [
    "np_x_plot = np.array(x_plot)\n",
    "np_y_plot = np.array(y_plot)\n",
    "\n",
    "fig = plt.figure()\n",
    "ax = fig.add_axes([0,0,1,1])\n",
    "ax.set_xlim(0, 12)\n",
    "ax.set_ylim(0, 12)\n",
    "\n",
    "ax.plot(np_x_plot,np_y_plot)\n",
    "\n",
    "ax.set_title(\"my_turtle\")\n",
    "ax.set_xlabel(\"x\")\n",
    "ax.set_ylabel(\"y\")\n"
   ]
  },
  {
   "cell_type": "code",
   "execution_count": null,
   "id": "e7c76a83",
   "metadata": {},
   "outputs": [],
   "source": []
  }
 ],
 "metadata": {
  "hide_input": false,
  "kernelspec": {
   "display_name": "Python 3 (ipykernel)",
   "language": "python",
   "name": "python3"
  },
  "language_info": {
   "codemirror_mode": {
    "name": "ipython",
    "version": 3
   },
   "file_extension": ".py",
   "mimetype": "text/x-python",
   "name": "python",
   "nbconvert_exporter": "python",
   "pygments_lexer": "ipython3",
   "version": "3.8.5"
  },
  "toc": {
   "base_numbering": 1,
   "nav_menu": {},
   "number_sections": true,
   "sideBar": true,
   "skip_h1_title": false,
   "title_cell": "Table of Contents",
   "title_sidebar": "Contents",
   "toc_cell": false,
   "toc_position": {},
   "toc_section_display": true,
   "toc_window_display": false
  },
  "varInspector": {
   "cols": {
    "lenName": 16,
    "lenType": 16,
    "lenVar": 40
   },
   "kernels_config": {
    "python": {
     "delete_cmd_postfix": "",
     "delete_cmd_prefix": "del ",
     "library": "var_list.py",
     "varRefreshCmd": "print(var_dic_list())"
    },
    "r": {
     "delete_cmd_postfix": ") ",
     "delete_cmd_prefix": "rm(",
     "library": "var_list.r",
     "varRefreshCmd": "cat(var_dic_list()) "
    }
   },
   "types_to_exclude": [
    "module",
    "function",
    "builtin_function_or_method",
    "instance",
    "_Feature"
   ],
   "window_display": false
  }
 },
 "nbformat": 4,
 "nbformat_minor": 5
}
