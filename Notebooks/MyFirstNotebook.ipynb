{
 "cells": [
  {
   "cell_type": "code",
   "execution_count": null,
   "id": "fee1f9e3",
   "metadata": {
    "slideshow": {
     "slide_type": "slide"
    }
   },
   "outputs": [],
   "source": [
    "x = 3\n",
    "print(x)"
   ]
  },
  {
   "cell_type": "markdown",
   "id": "51a5c5b4",
   "metadata": {
    "slideshow": {
     "slide_type": "slide"
    }
   },
   "source": [
    "# My title\n",
    "\n",
    "Hi, I'm Pablo!\n",
    "\n",
    "## My subtitle\n",
    "\n",
    "`a = 3`\n",
    "\n",
    "#### My section\n",
    "\n",
    "```python\n",
    "x = 2\n",
    "print(x)\n",
    "```"
   ]
  },
  {
   "cell_type": "markdown",
   "id": "356a2806",
   "metadata": {
    "slideshow": {
     "slide_type": "subslide"
    }
   },
   "source": [
    "<font size=6 color='blue'>Hello Jupyter</font>"
   ]
  },
  {
   "cell_type": "code",
   "execution_count": 5,
   "id": "2214bc21",
   "metadata": {
    "slideshow": {
     "slide_type": "fragment"
    }
   },
   "outputs": [
    {
     "data": {
      "application/javascript": [
       "function add(x,y)\n",
       "{\n",
       "    var z = x+y;\n",
       "    alert(\"x+y=\"+z.toString());\n",
       "}\n",
       "add(10,20)\n"
      ],
      "text/plain": [
       "<IPython.core.display.Javascript object>"
      ]
     },
     "metadata": {},
     "output_type": "display_data"
    }
   ],
   "source": [
    "%%javascript\n",
    "function add(x,y)\n",
    "{\n",
    "    var z = x+y;\n",
    "    alert(\"x+y=\"+z.toString());\n",
    "}\n",
    "add(10,20)"
   ]
  },
  {
   "cell_type": "code",
   "execution_count": 6,
   "id": "fabec9ae",
   "metadata": {
    "slideshow": {
     "slide_type": "slide"
    }
   },
   "outputs": [
    {
     "name": "stdout",
     "output_type": "stream",
     "text": [
      "Writing test.py\n"
     ]
    }
   ],
   "source": [
    "%%writefile test.py\n",
    "x = 5\n",
    "y = 10\n",
    "print(x+y)"
   ]
  },
  {
   "cell_type": "code",
   "execution_count": null,
   "id": "87ab9744",
   "metadata": {},
   "outputs": [],
   "source": []
  }
 ],
 "metadata": {
  "celltoolbar": "Slideshow",
  "kernelspec": {
   "display_name": "Python 3 (ipykernel)",
   "language": "python",
   "name": "python3"
  },
  "language_info": {
   "codemirror_mode": {
    "name": "ipython",
    "version": 3
   },
   "file_extension": ".py",
   "mimetype": "text/x-python",
   "name": "python",
   "nbconvert_exporter": "python",
   "pygments_lexer": "ipython3",
   "version": "3.8.5"
  }
 },
 "nbformat": 4,
 "nbformat_minor": 5
}
