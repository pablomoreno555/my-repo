{
 "cells": [
  {
   "cell_type": "code",
   "execution_count": null,
   "id": "739d7afe",
   "metadata": {},
   "outputs": [],
   "source": [
    "import rospy\n",
    "from geometry_msgs.msg import PoseStamped\n",
    "from nav_msgs.msg import Odometry\n",
    "from my_assignment_2.msg import PosVel\n",
    "\n",
    "import actionlib # Bring in the SimpleActionClient\n",
    "\n",
    "# Bring in the PlanningAction type, composed by the types PlanningGoal, PlanningResult and PlanningFeedback\n",
    "from assignment_2_2022.msg import PlanningAction, PlanningGoal\n",
    "\n",
    "# Since we'll publish within the callback function, we have to define the publisher globally\n",
    "pub = rospy.Publisher(\"/pos_vel\", PosVel, queue_size=10)"
   ]
  },
  {
   "cell_type": "code",
   "execution_count": null,
   "id": "702d1803",
   "metadata": {},
   "outputs": [],
   "source": [
    "def callback_odometry(odometry):\n",
    "    \n",
    "    my_pos_vel = PosVel() # this is the msg we'll publish\n",
    "    \n",
    "    # Fill the four fields relying on the data received via the topic /odom\n",
    "    my_pos_vel.x = odometry.pose.pose.position.x\n",
    "    my_pos_vel.y = odometry.pose.pose.position.y\n",
    "    my_pos_vel.vel_x = odometry.twist.twist.linear.x\n",
    "    my_pos_vel.vel_z = odometry.twist.twist.angular.z\n",
    "\n",
    "    pub.publish(my_pos_vel) # publish"
   ]
  },
  {
   "cell_type": "code",
   "execution_count": null,
   "id": "20a8d1d5",
   "metadata": {},
   "outputs": [],
   "source": [
    "# Initialize a rospy node so that the SimpleActionClient can publish and subscribe over ROS\n",
    "rospy.init_node('planning_client')\n",
    "\n",
    "# Subscribe to the topic /odom\n",
    "rospy.Subscriber(\"/odom\", Odometry, callback_odometry)\n",
    "\n",
    "# Counters for the number of goals reached and cancelled, in total\n",
    "n_goals_reached = 0\n",
    "n_goals_cancelled = 0\n",
    "\n",
    "# Initialize the parameters, in the ROS parameter service, related to these counters\n",
    "rospy.set_param('goals_reached', n_goals_reached)\n",
    "rospy.set_param('goals_cancelled', n_goals_cancelled)\n",
    "\n",
    "# Create the SimpleActionClient. The service is called '/reaching_goal' and the type of action is 'PlanningAction'\n",
    "client = actionlib.SimpleActionClient('reaching_goal', PlanningAction)\n",
    "\n",
    "# Wait until the action server has started up and started listening for goals\n",
    "print(\"Waiting for the action server to start...\")\n",
    "client.wait_for_server()\n",
    "print(\"Action server up and running!\\n\")"
   ]
  },
  {
   "cell_type": "code",
   "execution_count": null,
   "id": "56583f17",
   "metadata": {},
   "outputs": [],
   "source": [
    "import ipywidgets as widgets\n",
    "\n",
    "# Get a new target from user input\n",
    "\n",
    "print(\"Please, enter a new target and click \\'Send\\':\\n\")\n",
    "print(\"x = \")\n",
    "x = widgets.FloatText()\n",
    "display(x)\n",
    "print(\"y = \")\n",
    "y = widgets.FloatText()\n",
    "display(y)\n",
    "\n",
    "button = widgets.Button(\n",
    "    description='Send',\n",
    "    disabled=False,\n",
    "    button_style='success'\n",
    ")\n",
    "\n",
    "# cancel_button = widgets.Button(\n",
    "#     description='Cancel',\n",
    "#     disabled=False,\n",
    "#     button_style='danger'\n",
    "# )\n",
    "\n",
    "output = widgets.Output()\n",
    "display(button, output)\n",
    "\n",
    "def on_button_clicked(b):\n",
    "    with output:\n",
    "        \n",
    "        # Create a goal to send to the action server\n",
    "        my_goal_pose = PoseStamped()\n",
    "        my_goal_pose.pose.position.x = x.value\n",
    "        my_goal_pose.pose.position.y = y.value\n",
    "        goal = PlanningGoal(target_pose = my_goal_pose)\n",
    "\n",
    "        # Send the goal to the action server\n",
    "        client.send_goal(goal)\n",
    "        \n",
    "        print(\"Goal sent to the action server\")\n",
    "        print(\"Heading to the goal... Click \\'Cancel\\' to cancel the goal\")\n",
    "        \n",
    "#         display(cancel_button, output)\n",
    "        \n",
    "button.on_click(on_button_clicked)\n"
   ]
  },
  {
   "cell_type": "code",
   "execution_count": null,
   "id": "87770dac",
   "metadata": {},
   "outputs": [],
   "source": [
    "# def on_cancel_button_clicked(b):\n",
    "#     with output:\n",
    "        \n",
    "#         client.cancel_goal()\n",
    "#         print(\"Goal cancelled\\n\")\n",
    "#         n_goals_cancelled += 1\n",
    "#         rospy.set_param('goals_cancelled', n_goals_cancelled)\n",
    "#         return True\n",
    "\n",
    "# while (1):\n",
    "#     # If the goal has been successfully reached (sratus=3), update the parameter related to the number of goals\n",
    "#     # reached and break the loop\n",
    "#     if client.get_state() == 3:\n",
    "#         print(\"Goal reached!\\n\")\n",
    "#         n_goals_reached += 1\n",
    "#         rospy.set_param('goals_reached', n_goals_reached)\n",
    "#         break\n",
    "    \n",
    "#     # If the user clicks the 'cancel' button, cancel the current goal, update the parameter related to the number \n",
    "# #     of goals cancelled and break the loop\n",
    "#     if cancel_button.on_click(on_cancel_button_clicked):\n",
    "#         break"
   ]
  },
  {
   "cell_type": "code",
   "execution_count": null,
   "id": "ad41bd80",
   "metadata": {},
   "outputs": [],
   "source": []
  }
 ],
 "metadata": {
  "hide_input": false,
  "kernelspec": {
   "display_name": "Python 3 (ipykernel)",
   "language": "python",
   "name": "python3"
  },
  "language_info": {
   "codemirror_mode": {
    "name": "ipython",
    "version": 3
   },
   "file_extension": ".py",
   "mimetype": "text/x-python",
   "name": "python",
   "nbconvert_exporter": "python",
   "pygments_lexer": "ipython3",
   "version": "3.8.5"
  },
  "toc": {
   "base_numbering": 1,
   "nav_menu": {},
   "number_sections": true,
   "sideBar": true,
   "skip_h1_title": false,
   "title_cell": "Table of Contents",
   "title_sidebar": "Contents",
   "toc_cell": false,
   "toc_position": {},
   "toc_section_display": true,
   "toc_window_display": false
  },
  "varInspector": {
   "cols": {
    "lenName": 16,
    "lenType": 16,
    "lenVar": 40
   },
   "kernels_config": {
    "python": {
     "delete_cmd_postfix": "",
     "delete_cmd_prefix": "del ",
     "library": "var_list.py",
     "varRefreshCmd": "print(var_dic_list())"
    },
    "r": {
     "delete_cmd_postfix": ") ",
     "delete_cmd_prefix": "rm(",
     "library": "var_list.r",
     "varRefreshCmd": "cat(var_dic_list()) "
    }
   },
   "types_to_exclude": [
    "module",
    "function",
    "builtin_function_or_method",
    "instance",
    "_Feature"
   ],
   "window_display": false
  }
 },
 "nbformat": 4,
 "nbformat_minor": 5
}
