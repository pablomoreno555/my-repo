{
 "cells": [
  {
   "cell_type": "code",
   "execution_count": 1,
   "id": "739d7afe",
   "metadata": {},
   "outputs": [],
   "source": [
    "import rospy\n",
    "from geometry_msgs.msg import PoseStamped\n",
    "from nav_msgs.msg import Odometry\n",
    "from my_assignment_2.msg import PosVel\n",
    "from assignment_2_2022.msg import PlanningActionResult\n",
    "\n",
    "import actionlib # Bring in the SimpleActionClient\n",
    "\n",
    "# Bring in the PlanningAction type, composed by the types PlanningGoal, PlanningResult and PlanningFeedback\n",
    "from assignment_2_2022.msg import PlanningAction, PlanningGoal\n",
    "\n",
    "# Since we'll publish within the callback function, we have to define the publisher globally\n",
    "pub = rospy.Publisher(\"/pos_vel\", PosVel, queue_size=10)"
   ]
  },
  {
   "cell_type": "code",
   "execution_count": 2,
   "id": "702d1803",
   "metadata": {},
   "outputs": [],
   "source": [
    "def callback_odometry(odometry):\n",
    "    \n",
    "    my_pos_vel = PosVel() # this is the msg we'll publish\n",
    "    \n",
    "    # Fill the four fields relying on the data received via the topic /odom\n",
    "    my_pos_vel.x = odometry.pose.pose.position.x\n",
    "    my_pos_vel.y = odometry.pose.pose.position.y\n",
    "    my_pos_vel.vel_x = odometry.twist.twist.linear.x\n",
    "    my_pos_vel.vel_z = odometry.twist.twist.angular.z\n",
    "\n",
    "    pub.publish(my_pos_vel) # publish"
   ]
  },
  {
   "cell_type": "code",
   "execution_count": 3,
   "id": "bf7176af",
   "metadata": {},
   "outputs": [],
   "source": [
    "# If the goal has been successfully reached (status=3), increment the parameter related to the number of goals reached\n",
    "def callback_result(result):\n",
    "    \n",
    "    if result.status.status == 3:\n",
    "        print(\"Goal reached!\\n\")\n",
    "        global n_goals_reached\n",
    "        n_goals_reached += 1\n",
    "        rospy.set_param('goals_reached', n_goals_reached)"
   ]
  },
  {
   "cell_type": "code",
   "execution_count": 4,
   "id": "20a8d1d5",
   "metadata": {},
   "outputs": [
    {
     "name": "stdout",
     "output_type": "stream",
     "text": [
      "Waiting for the action server to start...\n",
      "Action server up and running!\n",
      "\n"
     ]
    }
   ],
   "source": [
    "# Initialize a rospy node so that the SimpleActionClient can publish and subscribe over ROS\n",
    "rospy.init_node('planning_client')\n",
    "\n",
    "# Subscribe to the topics /odom and /reaching_goal/result\n",
    "rospy.Subscriber(\"/odom\", Odometry, callback_odometry)\n",
    "rospy.Subscriber(\"/reaching_goal/result\", PlanningActionResult, callback_result)\n",
    "\n",
    "# Counters for the number of goals reached and cancelled, in total\n",
    "n_goals_reached = 0\n",
    "n_goals_cancelled = 0\n",
    "\n",
    "# Initialize the parameters, in the ROS parameter service, related to these counters\n",
    "rospy.set_param('goals_reached', n_goals_reached)\n",
    "rospy.set_param('goals_cancelled', n_goals_cancelled)\n",
    "\n",
    "# Create the SimpleActionClient. The service is called '/reaching_goal' and the type of action is 'PlanningAction'\n",
    "client = actionlib.SimpleActionClient('reaching_goal', PlanningAction)\n",
    "\n",
    "# Wait until the action server has started up and started listening for goals\n",
    "print(\"Waiting for the action server to start...\")\n",
    "client.wait_for_server()\n",
    "print(\"Action server up and running!\\n\")"
   ]
  },
  {
   "cell_type": "code",
   "execution_count": 5,
   "id": "56583f17",
   "metadata": {},
   "outputs": [
    {
     "name": "stdout",
     "output_type": "stream",
     "text": [
      "To send a new target, specify the x and y coordinates and click 'Send':\n",
      "\n",
      "To cancel the current target, click 'Cancel':\n",
      "\n",
      "x = \n"
     ]
    },
    {
     "data": {
      "application/vnd.jupyter.widget-view+json": {
       "model_id": "d9a6bd7781994d819b54d62a768eb620",
       "version_major": 2,
       "version_minor": 0
      },
      "text/plain": [
       "FloatText(value=0.0)"
      ]
     },
     "metadata": {},
     "output_type": "display_data"
    },
    {
     "name": "stdout",
     "output_type": "stream",
     "text": [
      "y = \n"
     ]
    },
    {
     "data": {
      "application/vnd.jupyter.widget-view+json": {
       "model_id": "695d0cb79bd14d8ca4225cab6387fe99",
       "version_major": 2,
       "version_minor": 0
      },
      "text/plain": [
       "FloatText(value=0.0)"
      ]
     },
     "metadata": {},
     "output_type": "display_data"
    },
    {
     "data": {
      "application/vnd.jupyter.widget-view+json": {
       "model_id": "4b1fed231cbb456fab5073695824b2ce",
       "version_major": 2,
       "version_minor": 0
      },
      "text/plain": [
       "Button(button_style='success', description='Send', style=ButtonStyle())"
      ]
     },
     "metadata": {},
     "output_type": "display_data"
    },
    {
     "data": {
      "application/vnd.jupyter.widget-view+json": {
       "model_id": "aca20c3b3bc3478abc637b2491c8eb3d",
       "version_major": 2,
       "version_minor": 0
      },
      "text/plain": [
       "Output()"
      ]
     },
     "metadata": {},
     "output_type": "display_data"
    },
    {
     "data": {
      "application/vnd.jupyter.widget-view+json": {
       "model_id": "ac29bd7f37714c03ad70374f072f38f0",
       "version_major": 2,
       "version_minor": 0
      },
      "text/plain": [
       "Button(button_style='danger', description='Cancel', style=ButtonStyle())"
      ]
     },
     "metadata": {},
     "output_type": "display_data"
    },
    {
     "data": {
      "application/vnd.jupyter.widget-view+json": {
       "model_id": "aca20c3b3bc3478abc637b2491c8eb3d",
       "version_major": 2,
       "version_minor": 0
      },
      "text/plain": [
       "Output()"
      ]
     },
     "metadata": {},
     "output_type": "display_data"
    },
    {
     "name": "stdout",
     "output_type": "stream",
     "text": [
      "Goal (3.0, 3.0) sent\n",
      "Heading to the goal...\n",
      "Goal reached!\n",
      "\n"
     ]
    }
   ],
   "source": [
    "import ipywidgets as widgets\n",
    "\n",
    "# Get a new target from user input\n",
    "\n",
    "print(\"To send a new target, specify the x and y coordinates and click \\'Send\\':\\n\")\n",
    "print(\"To cancel the current target, click \\'Cancel\\':\\n\")\n",
    "print(\"x = \")\n",
    "x = widgets.FloatText()\n",
    "display(x)\n",
    "print(\"y = \")\n",
    "y = widgets.FloatText()\n",
    "display(y)\n",
    "\n",
    "send_button = widgets.Button(\n",
    "    description='Send',\n",
    "    disabled=False,\n",
    "    button_style='success'\n",
    ")\n",
    "\n",
    "cancel_button = widgets.Button(\n",
    "    description='Cancel',\n",
    "    disabled=False,\n",
    "    button_style='danger'\n",
    ")\n",
    "\n",
    "output = widgets.Output()\n",
    "\n",
    "display(send_button, output)\n",
    "display(cancel_button, output)"
   ]
  },
  {
   "cell_type": "code",
   "execution_count": 6,
   "id": "e02072a4",
   "metadata": {},
   "outputs": [],
   "source": [
    "# If the user clicks the 'cancel' button, cancel the current goal and increment the parameter related to the number \n",
    "# of goals cancelled\n",
    "def on_cancel_button_clicked(b):\n",
    "        \n",
    "    client.cancel_goal()\n",
    "    print(\"Goal cancelled\\n\")\n",
    "    global n_goals_cancelled\n",
    "    n_goals_cancelled += 1\n",
    "    rospy.set_param('goals_cancelled', n_goals_cancelled)"
   ]
  },
  {
   "cell_type": "code",
   "execution_count": 7,
   "id": "8dc5bce2",
   "metadata": {},
   "outputs": [],
   "source": [
    "# If the user clicks the 'send' button...\n",
    "def on_send_button_clicked(b):\n",
    "        \n",
    "    # Create a goal to send to the action server\n",
    "    my_goal_pose = PoseStamped()\n",
    "    my_goal_pose.pose.position.x = x.value\n",
    "    my_goal_pose.pose.position.y = y.value\n",
    "    goal = PlanningGoal(target_pose = my_goal_pose)\n",
    "\n",
    "    # Send the goal to the action server\n",
    "    client.send_goal(goal)\n",
    "\n",
    "    print(\"Goal (\" + str(x.value) + \", \" + str(y.value) + \") sent\")\n",
    "    print(\"Heading to the goal...\")"
   ]
  },
  {
   "cell_type": "code",
   "execution_count": 8,
   "id": "87770dac",
   "metadata": {},
   "outputs": [],
   "source": [
    "send_button.on_click(on_send_button_clicked)\n",
    "cancel_button.on_click(on_cancel_button_clicked)"
   ]
  },
  {
   "cell_type": "code",
   "execution_count": null,
   "id": "eb845c54",
   "metadata": {},
   "outputs": [],
   "source": []
  },
  {
   "cell_type": "code",
   "execution_count": 9,
   "id": "d34f2aad",
   "metadata": {},
   "outputs": [
    {
     "name": "stdout",
     "output_type": "stream",
     "text": [
      "Distance to the closest obstacle: \n"
     ]
    },
    {
     "data": {
      "application/vnd.jupyter.widget-view+json": {
       "model_id": "151e13bec14e4011a774f430e1beb9f4",
       "version_major": 2,
       "version_minor": 0
      },
      "text/plain": [
       "FloatText(value=-1.0, disabled=True, layout=Layout(width='200px'))"
      ]
     },
     "metadata": {},
     "output_type": "display_data"
    }
   ],
   "source": [
    "print(\"Distance to the closest obstacle: \")\n",
    "box = widgets.FloatText(value=-1, disabled = True, layout = widgets.Layout(width='200px'))\n",
    "\n",
    "display(box)"
   ]
  },
  {
   "cell_type": "code",
   "execution_count": 10,
   "id": "dd608fc3",
   "metadata": {},
   "outputs": [],
   "source": [
    "def callback_scan(msg):\n",
    "    \n",
    "    min_val = msg.range_max\n",
    "    \n",
    "    a = msg.ranges[0]\n",
    "    \n",
    "    for i in range(len(msg.ranges)):\n",
    "        \n",
    "        if (msg.ranges[i] < min_val) and (msg.ranges[i] >= msg.range_min) and (msg.ranges[i] <= msg.range_max):\n",
    "            \n",
    "            min_val = msg.ranges[i]\n",
    "    \n",
    "    global box\n",
    "    box.value = min_val\n",
    "            "
   ]
  },
  {
   "cell_type": "code",
   "execution_count": 11,
   "id": "42613a42",
   "metadata": {
    "scrolled": true
   },
   "outputs": [],
   "source": [
    "from sensor_msgs.msg import LaserScan\n",
    "\n",
    "# Subscribe to the topic /scan\n",
    "s = rospy.Subscriber(\"/scan\", LaserScan, callback_scan)"
   ]
  },
  {
   "cell_type": "code",
   "execution_count": null,
   "id": "424f96de",
   "metadata": {},
   "outputs": [],
   "source": []
  }
 ],
 "metadata": {
  "hide_input": false,
  "kernelspec": {
   "display_name": "Python 3 (ipykernel)",
   "language": "python",
   "name": "python3"
  },
  "language_info": {
   "codemirror_mode": {
    "name": "ipython",
    "version": 3
   },
   "file_extension": ".py",
   "mimetype": "text/x-python",
   "name": "python",
   "nbconvert_exporter": "python",
   "pygments_lexer": "ipython3",
   "version": "3.8.5"
  },
  "toc": {
   "base_numbering": 1,
   "nav_menu": {},
   "number_sections": true,
   "sideBar": true,
   "skip_h1_title": false,
   "title_cell": "Table of Contents",
   "title_sidebar": "Contents",
   "toc_cell": false,
   "toc_position": {},
   "toc_section_display": true,
   "toc_window_display": false
  },
  "varInspector": {
   "cols": {
    "lenName": 16,
    "lenType": 16,
    "lenVar": 40
   },
   "kernels_config": {
    "python": {
     "delete_cmd_postfix": "",
     "delete_cmd_prefix": "del ",
     "library": "var_list.py",
     "varRefreshCmd": "print(var_dic_list())"
    },
    "r": {
     "delete_cmd_postfix": ") ",
     "delete_cmd_prefix": "rm(",
     "library": "var_list.r",
     "varRefreshCmd": "cat(var_dic_list()) "
    }
   },
   "types_to_exclude": [
    "module",
    "function",
    "builtin_function_or_method",
    "instance",
    "_Feature"
   ],
   "window_display": false
  }
 },
 "nbformat": 4,
 "nbformat_minor": 5
}
