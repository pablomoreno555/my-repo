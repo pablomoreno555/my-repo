{
 "cells": [
  {
   "cell_type": "code",
   "execution_count": 1,
   "id": "c5ab5c6e",
   "metadata": {},
   "outputs": [],
   "source": [
    "def update_box_reached(change):\n",
    "    print(\"aa\")\n",
    "    plt.bar([\"Reached\", \"Cancelled\"], [n_goals_reached, n_goals_cancelled], align='center', width=0.8, color=['green', 'red'])\n",
    "    plt.show()  "
   ]
  },
  {
   "cell_type": "code",
   "execution_count": 2,
   "id": "4710dd7f",
   "metadata": {},
   "outputs": [
    {
     "data": {
      "application/vnd.jupyter.widget-view+json": {
       "model_id": "3a6c372990884f4a80240e9f0d130fae",
       "version_major": 2,
       "version_minor": 0
      },
      "text/plain": [
       "IntText(value=0, disabled=True)"
      ]
     },
     "metadata": {},
     "output_type": "display_data"
    }
   ],
   "source": [
    "import ipywidgets as widgets\n",
    "\n",
    "box_reached = widgets.IntText(value=0, disabled=True)\n",
    "\n",
    "display(box_reached)\n",
    "    \n",
    "box_reached.observe(update_box_reached, 'value')"
   ]
  },
  {
   "cell_type": "code",
   "execution_count": 3,
   "id": "739d7afe",
   "metadata": {},
   "outputs": [],
   "source": [
    "import rospy\n",
    "from geometry_msgs.msg import PoseStamped\n",
    "from nav_msgs.msg import Odometry\n",
    "from my_assignment_2.msg import PosVel\n",
    "from assignment_2_2022.msg import PlanningActionResult\n",
    "\n",
    "import actionlib # Bring in the SimpleActionClient\n",
    "\n",
    "# Bring in the PlanningAction type, composed by the types PlanningGoal, PlanningResult and PlanningFeedback\n",
    "from assignment_2_2022.msg import PlanningAction, PlanningGoal\n",
    "\n",
    "# Since we'll publish within the callback function, we have to define the publisher globally\n",
    "pub = rospy.Publisher(\"/pos_vel\", PosVel, queue_size=10)"
   ]
  },
  {
   "cell_type": "code",
   "execution_count": 4,
   "id": "3d2e3dc8",
   "metadata": {},
   "outputs": [],
   "source": [
    "import matplotlib as mpl\n",
    "import matplotlib.pyplot as plt\n",
    "import numpy as np\n",
    "from matplotlib.animation import FuncAnimation\n",
    "\n",
    "class Visualiser:\n",
    "    def __init__(self):\n",
    "        self.fig, self.ax = plt.subplots()\n",
    "        self.ln, = plt.plot([], [], 'ro')\n",
    "        self.x_data, self.y_data = [] , []\n",
    "        \n",
    "    def plot_init(self):\n",
    "        self.ax.set_xlim(-10, 10)\n",
    "        self.ax.set_ylim(-10, 10)\n",
    "        return self.ln\n",
    "    \n",
    "    def odom_callback(self, msg):\n",
    "        \n",
    "        my_pos_vel = PosVel() # this is the msg we'll publish\n",
    "    \n",
    "        # Fill the four fields relying on the data received via the topic /odom\n",
    "        my_pos_vel.x = msg.pose.pose.position.x\n",
    "        my_pos_vel.y = msg.pose.pose.position.y\n",
    "        my_pos_vel.vel_x = msg.twist.twist.linear.x\n",
    "        my_pos_vel.vel_z = msg.twist.twist.angular.z\n",
    "\n",
    "        pub.publish(my_pos_vel) # publish\n",
    "    \n",
    "        self.y_data.append(msg.pose.pose.position.y)\n",
    "        self.x_data.append(msg.pose.pose.position.x)\n",
    "        \n",
    "    def update_plot(self, frame):\n",
    "        self.ln.set_data(self.x_data, self.y_data)\n",
    "        return self.ln  "
   ]
  },
  {
   "cell_type": "code",
   "execution_count": 5,
   "id": "bf7176af",
   "metadata": {},
   "outputs": [],
   "source": [
    "# If the goal has been successfully reached (status=3), increment the parameter related to the number of goals reached\n",
    "def callback_result(result):\n",
    "    \n",
    "    if result.status.status == 3:\n",
    "        print(\"Goal reached!\\n\")\n",
    "        global n_goals_reached\n",
    "        n_goals_reached += 1\n",
    "        rospy.set_param('goals_reached', n_goals_reached)\n",
    "        \n",
    "        global box_reached\n",
    "        box_reached.value += 1"
   ]
  },
  {
   "cell_type": "code",
   "execution_count": 6,
   "id": "20a8d1d5",
   "metadata": {},
   "outputs": [
    {
     "data": {
      "image/png": "[encoded data removed]",
      "text/plain": [
       "<Figure size 432x288 with 1 Axes>"
      ]
     },
     "metadata": {
      "needs_background": "light"
     },
     "output_type": "display_data"
    },
    {
     "name": "stdout",
     "output_type": "stream",
     "text": [
      "Waiting for the action server to start...\n",
      "Action server up and running!\n",
      "\n"
     ]
    }
   ],
   "source": [
    "# Initialize a rospy node so that the SimpleActionClient can publish and subscribe over ROS\n",
    "rospy.init_node('planning_client')\n",
    "\n",
    "# Create an instance of the class Visualiser\n",
    "vis = Visualiser()\n",
    "\n",
    "# FuncAnimation\n",
    "ani = FuncAnimation(vis.fig, vis.update_plot, init_func=vis.plot_init)\n",
    "plt.show(block=False)\n",
    "\n",
    "# Subscribe to the topics /odom and /reaching_goal/result\n",
    "rospy.Subscriber(\"/odom\", Odometry, vis.odom_callback)\n",
    "rospy.Subscriber(\"/reaching_goal/result\", PlanningActionResult, callback_result)\n",
    "\n",
    "# Counters for the number of goals reached and cancelled, in total\n",
    "n_goals_reached = 0\n",
    "n_goals_cancelled = 0\n",
    "\n",
    "# Initialize the parameters, in the ROS parameter service, related to these counters\n",
    "rospy.set_param('goals_reached', n_goals_reached)\n",
    "rospy.set_param('goals_cancelled', n_goals_cancelled)\n",
    "\n",
    "# Create the SimpleActionClient. The service is called '/reaching_goal' and the type of action is 'PlanningAction'\n",
    "client = actionlib.SimpleActionClient('reaching_goal', PlanningAction)\n",
    "\n",
    "# Wait until the action server has started up and started listening for goals\n",
    "print(\"Waiting for the action server to start...\")\n",
    "client.wait_for_server()\n",
    "print(\"Action server up and running!\\n\")"
   ]
  },
  {
   "cell_type": "code",
   "execution_count": 7,
   "id": "56583f17",
   "metadata": {},
   "outputs": [
    {
     "name": "stdout",
     "output_type": "stream",
     "text": [
      "To send a new target, specify the x and y coordinates and click 'Send':\n",
      "\n",
      "To cancel the current target, click 'Cancel':\n",
      "\n",
      "x = \n"
     ]
    },
    {
     "data": {
      "application/vnd.jupyter.widget-view+json": {
       "model_id": "644ecb4cd31f406d82ecce67422c08e8",
       "version_major": 2,
       "version_minor": 0
      },
      "text/plain": [
       "FloatText(value=0.0)"
      ]
     },
     "metadata": {},
     "output_type": "display_data"
    },
    {
     "name": "stdout",
     "output_type": "stream",
     "text": [
      "y = \n"
     ]
    },
    {
     "data": {
      "application/vnd.jupyter.widget-view+json": {
       "model_id": "cc1c4d77d4424ca2b12249fc6aeb20e1",
       "version_major": 2,
       "version_minor": 0
      },
      "text/plain": [
       "FloatText(value=0.0)"
      ]
     },
     "metadata": {},
     "output_type": "display_data"
    },
    {
     "data": {
      "application/vnd.jupyter.widget-view+json": {
       "model_id": "da90e71c8fca4042a913076fcd92f0da",
       "version_major": 2,
       "version_minor": 0
      },
      "text/plain": [
       "Button(button_style='success', description='Send', style=ButtonStyle())"
      ]
     },
     "metadata": {},
     "output_type": "display_data"
    },
    {
     "data": {
      "application/vnd.jupyter.widget-view+json": {
       "model_id": "871cd4de0b6a4a0aac84948f4066f2d5",
       "version_major": 2,
       "version_minor": 0
      },
      "text/plain": [
       "Output()"
      ]
     },
     "metadata": {},
     "output_type": "display_data"
    },
    {
     "data": {
      "application/vnd.jupyter.widget-view+json": {
       "model_id": "a4180d5c4159451c9a841c7b5b5da37e",
       "version_major": 2,
       "version_minor": 0
      },
      "text/plain": [
       "Button(button_style='danger', description='Cancel', style=ButtonStyle())"
      ]
     },
     "metadata": {},
     "output_type": "display_data"
    },
    {
     "data": {
      "application/vnd.jupyter.widget-view+json": {
       "model_id": "871cd4de0b6a4a0aac84948f4066f2d5",
       "version_major": 2,
       "version_minor": 0
      },
      "text/plain": [
       "Output()"
      ]
     },
     "metadata": {},
     "output_type": "display_data"
    }
   ],
   "source": [
    "import ipywidgets as widgets\n",
    "\n",
    "# Get a new target from user input\n",
    "\n",
    "print(\"To send a new target, specify the x and y coordinates and click \\'Send\\':\\n\")\n",
    "print(\"To cancel the current target, click \\'Cancel\\':\\n\")\n",
    "print(\"x = \")\n",
    "x = widgets.FloatText()\n",
    "display(x)\n",
    "print(\"y = \")\n",
    "y = widgets.FloatText()\n",
    "display(y)\n",
    "\n",
    "send_button = widgets.Button(\n",
    "    description='Send',\n",
    "    disabled=False,\n",
    "    button_style='success'\n",
    ")\n",
    "\n",
    "cancel_button = widgets.Button(\n",
    "    description='Cancel',\n",
    "    disabled=False,\n",
    "    button_style='danger'\n",
    ")\n",
    "\n",
    "output = widgets.Output()\n",
    "\n",
    "display(send_button, output)\n",
    "display(cancel_button, output)"
   ]
  },
  {
   "cell_type": "code",
   "execution_count": 8,
   "id": "e02072a4",
   "metadata": {},
   "outputs": [],
   "source": [
    "# If the user clicks the 'cancel' button, cancel the current goal and increment the parameter related to the number \n",
    "# of goals cancelled\n",
    "def on_cancel_button_clicked(b):\n",
    "        \n",
    "    client.cancel_goal()\n",
    "    print(\"Goal cancelled\\n\")\n",
    "    global n_goals_cancelled\n",
    "    n_goals_cancelled += 1\n",
    "    rospy.set_param('goals_cancelled', n_goals_cancelled)"
   ]
  },
  {
   "cell_type": "code",
   "execution_count": 9,
   "id": "8dc5bce2",
   "metadata": {},
   "outputs": [],
   "source": [
    "# If the user clicks the 'send' button...\n",
    "def on_send_button_clicked(b):\n",
    "        \n",
    "    # Create a goal to send to the action server\n",
    "    my_goal_pose = PoseStamped()\n",
    "    my_goal_pose.pose.position.x = x.value\n",
    "    my_goal_pose.pose.position.y = y.value\n",
    "    goal = PlanningGoal(target_pose = my_goal_pose)\n",
    "\n",
    "    # Send the goal to the action server\n",
    "    client.send_goal(goal)\n",
    "\n",
    "    print(\"Goal (\" + str(x.value) + \", \" + str(y.value) + \") sent\")\n",
    "    print(\"Heading to the goal...\")"
   ]
  },
  {
   "cell_type": "code",
   "execution_count": 10,
   "id": "87770dac",
   "metadata": {},
   "outputs": [],
   "source": [
    "send_button.on_click(on_send_button_clicked)\n",
    "cancel_button.on_click(on_cancel_button_clicked)"
   ]
  },
  {
   "cell_type": "code",
   "execution_count": null,
   "id": "eb845c54",
   "metadata": {},
   "outputs": [],
   "source": []
  },
  {
   "cell_type": "code",
   "execution_count": 11,
   "id": "d34f2aad",
   "metadata": {},
   "outputs": [
    {
     "name": "stdout",
     "output_type": "stream",
     "text": [
      "Distance to the closest obstacle: \n"
     ]
    },
    {
     "data": {
      "application/vnd.jupyter.widget-view+json": {
       "model_id": "90e23577650c41a4ade4b7004e00027f",
       "version_major": 2,
       "version_minor": 0
      },
      "text/plain": [
       "FloatText(value=-1.0, disabled=True, layout=Layout(width='200px'))"
      ]
     },
     "metadata": {},
     "output_type": "display_data"
    }
   ],
   "source": [
    "print(\"Distance to the closest obstacle: \")\n",
    "box = widgets.FloatText(value=-1, disabled = True, layout = widgets.Layout(width='200px'))\n",
    "\n",
    "display(box)"
   ]
  },
  {
   "cell_type": "code",
   "execution_count": 12,
   "id": "dd608fc3",
   "metadata": {},
   "outputs": [],
   "source": [
    "def callback_scan(msg):\n",
    "    \n",
    "    min_val = msg.range_max\n",
    "    \n",
    "    a = msg.ranges[0]\n",
    "    \n",
    "    for i in range(len(msg.ranges)):\n",
    "        \n",
    "        if (msg.ranges[i] < min_val) and (msg.ranges[i] >= msg.range_min) and (msg.ranges[i] <= msg.range_max):\n",
    "            \n",
    "            min_val = msg.ranges[i]\n",
    "    \n",
    "    global box\n",
    "    box.value = min_val"
   ]
  },
  {
   "cell_type": "code",
   "execution_count": 13,
   "id": "42613a42",
   "metadata": {
    "scrolled": true
   },
   "outputs": [],
   "source": [
    "from sensor_msgs.msg import LaserScan\n",
    "\n",
    "# Subscribe to the topic /scan\n",
    "s = rospy.Subscriber(\"/scan\", LaserScan, callback_scan)"
   ]
  },
  {
   "cell_type": "code",
   "execution_count": null,
   "id": "424f96de",
   "metadata": {
    "scrolled": true
   },
   "outputs": [],
   "source": []
  },
  {
   "cell_type": "code",
   "execution_count": 14,
   "id": "6b674fd1",
   "metadata": {},
   "outputs": [
    {
     "name": "stdout",
     "output_type": "stream",
     "text": [
      "0\n",
      "0\n"
     ]
    }
   ],
   "source": [
    "print(n_goals_reached)\n",
    "print(n_goals_cancelled)"
   ]
  },
  {
   "cell_type": "code",
   "execution_count": null,
   "id": "e588987e",
   "metadata": {},
   "outputs": [],
   "source": []
  },
  {
   "cell_type": "code",
   "execution_count": null,
   "id": "7f6a4562",
   "metadata": {},
   "outputs": [],
   "source": []
  },
  {
   "cell_type": "code",
   "execution_count": 15,
   "id": "47584736",
   "metadata": {},
   "outputs": [
    {
     "data": {
      "application/vnd.jupyter.widget-view+json": {
       "model_id": "eebeece9e8574610a9b4e0308ef1a97f",
       "version_major": 2,
       "version_minor": 0
      },
      "text/plain": [
       "Canvas(toolbar=Toolbar(toolitems=[('Home', 'Reset original view', 'home', 'home'), ('Back', 'Back to previous …"
      ]
     },
     "metadata": {},
     "output_type": "display_data"
    }
   ],
   "source": [
    "%matplotlib widget\n",
    "\n",
    "plt.bar([\"Reached\", \"Cancelled\"], [n_goals_reached, n_goals_cancelled], align='center', width=0.8, color=['green', 'red'])\n",
    "\n",
    "plt.show()"
   ]
  },
  {
   "cell_type": "code",
   "execution_count": null,
   "id": "9fc0998a",
   "metadata": {},
   "outputs": [],
   "source": []
  }
 ],
 "metadata": {
  "hide_input": false,
  "kernelspec": {
   "display_name": "Python 3 (ipykernel)",
   "language": "python",
   "name": "python3"
  },
  "language_info": {
   "codemirror_mode": {
    "name": "ipython",
    "version": 3
   },
   "file_extension": ".py",
   "mimetype": "text/x-python",
   "name": "python",
   "nbconvert_exporter": "python",
   "pygments_lexer": "ipython3",
   "version": "3.8.5"
  },
  "toc": {
   "base_numbering": 1,
   "nav_menu": {},
   "number_sections": true,
   "sideBar": true,
   "skip_h1_title": false,
   "title_cell": "Table of Contents",
   "title_sidebar": "Contents",
   "toc_cell": false,
   "toc_position": {},
   "toc_section_display": true,
   "toc_window_display": false
  },
  "varInspector": {
   "cols": {
    "lenName": 16,
    "lenType": 16,
    "lenVar": 40
   },
   "kernels_config": {
    "python": {
     "delete_cmd_postfix": "",
     "delete_cmd_prefix": "del ",
     "library": "var_list.py",
     "varRefreshCmd": "print(var_dic_list())"
    },
    "r": {
     "delete_cmd_postfix": ") ",
     "delete_cmd_prefix": "rm(",
     "library": "var_list.r",
     "varRefreshCmd": "cat(var_dic_list()) "
    }
   },
   "types_to_exclude": [
    "module",
    "function",
    "builtin_function_or_method",
    "instance",
    "_Feature"
   ],
   "window_display": false
  }
 },
 "nbformat": 4,
 "nbformat_minor": 5
}
